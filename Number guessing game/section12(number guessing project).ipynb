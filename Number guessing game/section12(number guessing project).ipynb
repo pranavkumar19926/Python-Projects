{
 "cells": [
  {
   "cell_type": "code",
   "execution_count": null,
   "id": "c6cbeada-e67c-46c7-81c0-58b2826550a9",
   "metadata": {},
   "outputs": [
    {
     "name": "stdout",
     "output_type": "stream",
     "text": [
      " _   _                 _               \n",
      "| \\ | |_   _ _ __ ___ | |__   ___ _ __ \n",
      "|  \\| | | | | '_ ` _ \\| '_ \\ / _ \\ '__|\n",
      "| |\\  | |_| | | | | | | |_) |  __/ |   \n",
      "|_| \\_|\\__,_|_| |_| |_|_.__/ \\___|_|   \n",
      "                                       \n",
      "  ____                     _                ____                      \n",
      " / ___|_   _  ___  ___ ___(_)_ __   __ _   / ___| __ _ _ __ ___   ___ \n",
      "| |  _| | | |/ _ \\/ __/ __| | '_ \\ / _` | | |  _ / _` | '_ ` _ \\ / _ \\\n",
      "| |_| | |_| |  __/\\__ \\__ \\ | | | | (_| | | |_| | (_| | | | | | |  __/\n",
      " \\____|\\__,_|\\___||___/___/_|_| |_|\\__, |  \\____|\\__,_|_| |_| |_|\\___|\n",
      "                                   |___/                              \n",
      "\n",
      "Welcome to Number Guessing Game\n",
      "I am thinking of a number between 1 and 100\n"
     ]
    },
    {
     "name": "stdin",
     "output_type": "stream",
     "text": [
      "\u001b[32mChoose difficulty : Type easy or hard  easy\n"
     ]
    },
    {
     "name": "stdout",
     "output_type": "stream",
     "text": [
      "You have 10 attempts to guess the number\n"
     ]
    },
    {
     "name": "stdin",
     "output_type": "stream",
     "text": [
      "Make a guess:  45\n"
     ]
    },
    {
     "name": "stdout",
     "output_type": "stream",
     "text": [
      "Too high ⬆️\n",
      "Guess again\n",
      "You have 9 attempts remaining to guess the number\n"
     ]
    }
   ],
   "source": [
    "#### number guessing project with graffiti title\n",
    "import random\n",
    "import pyfiglet\n",
    "from colorama import Fore, Style, init\n",
    "\n",
    "# Initialize colorama\n",
    "init(autoreset=True)\n",
    "\n",
    "# Graffiti Title in color\n",
    "title = pyfiglet.figlet_format(\"Number Guessing Game\")\n",
    "print(Fore.CYAN + Style.BRIGHT + title)\n",
    "\n",
    "num = random.randint(1, 100)\n",
    "\n",
    "print(Fore.YELLOW + 'Welcome to Number Guessing Game')\n",
    "print(Fore.YELLOW + 'I am thinking of a number between 1 and 100')\n",
    "\n",
    "difficulty = input(Fore.GREEN + \"Choose difficulty : Type easy or hard \")\n",
    "\n",
    "# for easy we get 10 steps for guessing\n",
    "chances = 0\n",
    "\n",
    "def difficultys(diff):\n",
    "    if diff == 'easy':\n",
    "        print(Fore.MAGENTA + 'You have 10 attempts to guess the number')\n",
    "        return 10\n",
    "    else:\n",
    "        print(Fore.MAGENTA + 'You have 5 attempts to guess the number')\n",
    "        return 5\n",
    "\n",
    "chances = difficultys(difficulty)\n",
    "left = chances\n",
    "\n",
    "def chancesleft(ch):\n",
    "    return ch - 1\n",
    "\n",
    "def func(left):\n",
    "    guess = int(input( \"Make a guess: \"))   # need integer input\n",
    "    while left > 0:\n",
    "        if guess < num:\n",
    "            print(Fore.RED + 'Too low ⬇️')\n",
    "            print('Guess again')\n",
    "            left = chancesleft(left)\n",
    "            print(Fore.YELLOW + 'You have', left, 'attempts remaining to guess the number')\n",
    "            guess = int(input(Fore.CYAN + \"Make a guess: \"))\n",
    "\n",
    "        elif guess > num:\n",
    "            print(Fore.RED + 'Too high ⬆️')\n",
    "            print('Guess again')\n",
    "            left = chancesleft(left)\n",
    "            print(Fore.YELLOW + 'You have', left, 'attempts remaining to guess the number')\n",
    "            guess = int(input(Fore.CYAN + \"Make a guess: \"))\n",
    "\n",
    "        else:\n",
    "            print(Fore.GREEN + Style.BRIGHT + '🎉 You got it! The answer is', guess)\n",
    "            return\n",
    "    print(Fore.RED + Style.BRIGHT + '💀 Game over, the number was', num)\n",
    "\n",
    "func(left)\n"
   ]
  },
  {
   "cell_type": "code",
   "execution_count": null,
   "id": "fb612e04-bc59-43ef-b273-2bbe5e51725b",
   "metadata": {},
   "outputs": [],
   "source": []
  }
 ],
 "metadata": {
  "kernelspec": {
   "display_name": "Python 3 (ipykernel)",
   "language": "python",
   "name": "python3"
  },
  "language_info": {
   "codemirror_mode": {
    "name": "ipython",
    "version": 3
   },
   "file_extension": ".py",
   "mimetype": "text/x-python",
   "name": "python",
   "nbconvert_exporter": "python",
   "pygments_lexer": "ipython3",
   "version": "3.13.3"
  }
 },
 "nbformat": 4,
 "nbformat_minor": 5
}
